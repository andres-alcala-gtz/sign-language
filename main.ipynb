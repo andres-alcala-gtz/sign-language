{
 "cells": [
  {
   "cell_type": "markdown",
   "id": "648359b2",
   "metadata": {},
   "source": [
    "# import dependencies"
   ]
  },
  {
   "cell_type": "code",
   "execution_count": null,
   "id": "828a42cc",
   "metadata": {},
   "outputs": [],
   "source": [
    "from os import listdir\n",
    "from os import makedirs\n",
    "\n",
    "from cv2 import imshow\n",
    "from cv2 import putText\n",
    "from cv2 import waitKey\n",
    "from cv2 import rectangle\n",
    "from cv2 import VideoCapture\n",
    "from cv2 import destroyAllWindows\n",
    "from cv2 import FONT_HERSHEY_SIMPLEX\n",
    "\n",
    "from numpy import save\n",
    "from numpy import load\n",
    "from numpy import array\n",
    "from numpy import argmax\n",
    "from numpy import concatenate\n",
    "from numpy import expand_dims\n",
    "\n",
    "from sklearn.model_selection import train_test_split\n",
    "\n",
    "from tensorflow.keras.utils import to_categorical\n",
    "from tensorflow.keras.layers import Input\n",
    "from tensorflow.keras.layers import Dense\n",
    "from tensorflow.keras.models import Sequential\n",
    "from tensorflow.keras.models import load_model\n",
    "\n",
    "from tensorflowjs.converters import save_keras_model\n",
    "\n",
    "import mediapipe\n",
    "Holistic = mediapipe.solutions.holistic.Holistic\n",
    "POSE_CONNECTIONS = mediapipe.solutions.holistic.POSE_CONNECTIONS\n",
    "HAND_CONNECTIONS = mediapipe.solutions.holistic.HAND_CONNECTIONS\n",
    "draw_landmarks = mediapipe.solutions.drawing_utils.draw_landmarks"
   ]
  },
  {
   "cell_type": "markdown",
   "id": "beb27060",
   "metadata": {},
   "source": [
    "# define variables"
   ]
  },
  {
   "cell_type": "code",
   "execution_count": null,
   "id": "be5745f4",
   "metadata": {},
   "outputs": [],
   "source": [
    "SIGNS = {\n",
    "    0 : \"-\",\n",
    "    1 : \"hola\",\n",
    "    2 : \"como estas\",\n",
    "    3 : \"bien\",\n",
    "    4 : \"mal\",\n",
    "    5 : \"con permiso\",\n",
    "    6 : \"gracias\",\n",
    "    7 : \"de nada\",\n",
    "    8 : \"por favor\",\n",
    "    9 : \"perdon\",\n",
    "    10: \"adios\",\n",
    "    11: \"cuidate\",\n",
    "    12: \"nos vemos\",\n",
    "    13: \"te quiero\"\n",
    "}"
   ]
  },
  {
   "cell_type": "code",
   "execution_count": null,
   "id": "20c9e2ff",
   "metadata": {},
   "outputs": [],
   "source": [
    "SAMPLES = 5000"
   ]
  },
  {
   "cell_type": "markdown",
   "id": "a41b8d2a",
   "metadata": {},
   "source": [
    "# define functions"
   ]
  },
  {
   "cell_type": "code",
   "execution_count": null,
   "id": "51d041ce",
   "metadata": {},
   "outputs": [],
   "source": [
    "def show_image(image, text=None, landmarks=None):\n",
    "\n",
    "    if text:\n",
    "        rectangle(image, (image.shape[1], image.shape[0]), (0, image.shape[0] - 40), (0, 0, 0), -1)\n",
    "        putText(image, text.upper(), (10, image.shape[0] - 10), FONT_HERSHEY_SIMPLEX, 1, (255, 255, 255), 3)\n",
    "\n",
    "    if landmarks:\n",
    "        draw_landmarks(image, landmarks.pose_landmarks, POSE_CONNECTIONS)\n",
    "        draw_landmarks(image, landmarks.left_hand_landmarks, HAND_CONNECTIONS)\n",
    "        draw_landmarks(image, landmarks.right_hand_landmarks, HAND_CONNECTIONS)\n",
    "\n",
    "    imshow(\"Video Capture\", image)"
   ]
  },
  {
   "cell_type": "code",
   "execution_count": null,
   "id": "f3380890",
   "metadata": {},
   "outputs": [],
   "source": [
    "def get_keypoints(landmarks):\n",
    "\n",
    "    pose = array([[lm.x, lm.y, lm.visibility] for lm in landmarks.pose_landmarks.landmark]).flatten() if landmarks.pose_landmarks else array(3 * 33 * [-1.0])\n",
    "    left = array([[lm.x, lm.y, lm.z] for lm in landmarks.left_hand_landmarks.landmark]).flatten() if landmarks.left_hand_landmarks else array(3 * 21 * [-1.0])\n",
    "    right = array([[lm.x, lm.y, lm.z] for lm in landmarks.right_hand_landmarks.landmark]).flatten() if landmarks.right_hand_landmarks else array(3 * 21 * [-1.0])\n",
    "\n",
    "    return concatenate([pose, left, right])"
   ]
  },
  {
   "cell_type": "markdown",
   "id": "20a4f520",
   "metadata": {},
   "source": [
    "# test tracker"
   ]
  },
  {
   "cell_type": "code",
   "execution_count": null,
   "id": "4436b476",
   "metadata": {},
   "outputs": [],
   "source": [
    "capture = VideoCapture(0)\n",
    "\n",
    "with Holistic() as tracker:\n",
    "    while capture.isOpened():\n",
    "\n",
    "        _, image = capture.read()\n",
    "\n",
    "        landmarks = tracker.process(image)\n",
    "\n",
    "        prediction = \"test\"\n",
    "\n",
    "        show_image(image, prediction, landmarks)\n",
    "\n",
    "        if waitKey(1) & 0xFF == ord(\"q\"):\n",
    "            break\n",
    "\n",
    "capture.release()\n",
    "destroyAllWindows()"
   ]
  },
  {
   "cell_type": "markdown",
   "id": "e788184e",
   "metadata": {},
   "source": [
    "# create dataset"
   ]
  },
  {
   "cell_type": "code",
   "execution_count": null,
   "id": "f9bd0dd4",
   "metadata": {},
   "outputs": [],
   "source": [
    "for sign in SIGNS.values():\n",
    "    makedirs(f\"dataset/{sign}\")"
   ]
  },
  {
   "cell_type": "code",
   "execution_count": null,
   "id": "bf830894",
   "metadata": {},
   "outputs": [],
   "source": [
    "capture = VideoCapture(0)\n",
    "\n",
    "with Holistic() as tracker:\n",
    "    for sign in listdir(\"dataset\"):\n",
    "        for sample in range(SAMPLES):\n",
    "\n",
    "            _, image = capture.read()\n",
    "\n",
    "            landmarks = tracker.process(image)\n",
    "\n",
    "            save(f\"dataset/{sign}/{sample}\", get_keypoints(landmarks))\n",
    "\n",
    "            if sample == 0:\n",
    "                show_image(image, f\"{sign} -\", landmarks)\n",
    "                waitKey(10000)\n",
    "            else:\n",
    "                show_image(image, f\"{sign} {sample}\", landmarks)\n",
    "\n",
    "            if waitKey(1) & 0xFF == ord(\"q\"):\n",
    "                break\n",
    "\n",
    "capture.release()\n",
    "destroyAllWindows()"
   ]
  },
  {
   "cell_type": "code",
   "execution_count": null,
   "id": "1c56bae1",
   "metadata": {},
   "outputs": [],
   "source": [
    "to_index = dict(zip(SIGNS.values(), SIGNS.keys()))\n",
    "signs, indexes = list(), list()\n",
    "\n",
    "for sign in listdir(\"dataset\"):\n",
    "    for sample in listdir(f\"dataset/{sign}\"):\n",
    "\n",
    "        signs.append(load(f\"dataset/{sign}/{sample}\"))\n",
    "        indexes.append(to_index[sign])\n",
    "\n",
    "x = array(signs)\n",
    "y = to_categorical(indexes)\n",
    "\n",
    "x_train, x_test, y_train, y_test = train_test_split(x, y)"
   ]
  },
  {
   "cell_type": "markdown",
   "id": "e87badfe",
   "metadata": {},
   "source": [
    "# create translator"
   ]
  },
  {
   "cell_type": "code",
   "execution_count": null,
   "id": "582ce1c4",
   "metadata": {},
   "outputs": [],
   "source": [
    "ip = x.shape[1]\n",
    "op = y.shape[1]"
   ]
  },
  {
   "cell_type": "code",
   "execution_count": null,
   "id": "7bcdc828",
   "metadata": {},
   "outputs": [],
   "source": [
    "translator = Sequential(name=\"translator\", layers=[\n",
    "    Input(name=\"layer_0\", shape= ip),\n",
    "    Dense(name=\"layer_1\", units=256, activation=\"relu\"),\n",
    "    Dense(name=\"layer_2\", units=512, activation=\"relu\"),\n",
    "    Dense(name=\"layer_3\", units=256, activation=\"relu\"),\n",
    "    Dense(name=\"layer_4\", units=128, activation=\"relu\"),\n",
    "    Dense(name=\"layer_5\", units= 64, activation=\"relu\"),\n",
    "    Dense(name=\"layer_6\", units= 32, activation=\"relu\"),\n",
    "    Dense(name=\"layer_7\", units= 16, activation=\"relu\"),\n",
    "    Dense(name=\"layer_8\", units= op, activation=\"softmax\")\n",
    "])\n",
    "\n",
    "translator.compile(optimizer=\"adam\", loss=\"categorical_crossentropy\", metrics=\"categorical_accuracy\")"
   ]
  },
  {
   "cell_type": "code",
   "execution_count": null,
   "id": "6d300cbb",
   "metadata": {},
   "outputs": [],
   "source": [
    "translator.fit(x=x_train, y=y_train, validation_data=(x_test, y_test), epochs=100, verbose=2)"
   ]
  },
  {
   "cell_type": "code",
   "execution_count": null,
   "id": "2c8f91c1",
   "metadata": {},
   "outputs": [],
   "source": [
    "translator.save(filepath=\"models/python/model.h5\")\n",
    "save_keras_model(artifacts_dir=\"models/javascript\", model=translator)"
   ]
  },
  {
   "cell_type": "markdown",
   "id": "e05b540b",
   "metadata": {},
   "source": [
    "# import translator"
   ]
  },
  {
   "cell_type": "code",
   "execution_count": null,
   "id": "bccad088",
   "metadata": {},
   "outputs": [],
   "source": [
    "translator = load_model(\"models/python/model.h5\")"
   ]
  },
  {
   "cell_type": "markdown",
   "id": "4348cea9",
   "metadata": {},
   "source": [
    "# test translator"
   ]
  },
  {
   "cell_type": "code",
   "execution_count": null,
   "id": "7bb0b7db",
   "metadata": {},
   "outputs": [],
   "source": [
    "capture = VideoCapture(0)\n",
    "\n",
    "with Holistic() as tracker:\n",
    "    while capture.isOpened():\n",
    "\n",
    "        _, image = capture.read()\n",
    "\n",
    "        landmarks = tracker.process(image)\n",
    "\n",
    "        prediction = SIGNS[argmax(translator.predict(expand_dims(a=get_keypoints(landmarks), axis=0)))]\n",
    "\n",
    "        show_image(image, prediction, landmarks)\n",
    "\n",
    "        if waitKey(1) & 0xFF == ord(\"q\"):\n",
    "            break\n",
    "\n",
    "capture.release()\n",
    "destroyAllWindows()"
   ]
  }
 ],
 "metadata": {
  "kernelspec": {
   "display_name": "Python 3 (ipykernel)",
   "language": "python",
   "name": "python3"
  },
  "language_info": {
   "codemirror_mode": {
    "name": "ipython",
    "version": 3
   },
   "file_extension": ".py",
   "mimetype": "text/x-python",
   "name": "python",
   "nbconvert_exporter": "python",
   "pygments_lexer": "ipython3",
   "version": "3.9.12"
  }
 },
 "nbformat": 4,
 "nbformat_minor": 5
}
